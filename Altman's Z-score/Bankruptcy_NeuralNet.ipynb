{
 "cells": [
  {
   "cell_type": "markdown",
   "id": "3c8b9fcc",
   "metadata": {
    "id": "3c8b9fcc",
    "tags": []
   },
   "source": [
    "## Neural Network study of the Bankruptcy Modeling"
   ]
  },
  {
   "cell_type": "markdown",
   "id": "01e34eeb",
   "metadata": {
    "id": "01e34eeb"
   },
   "source": [
    "Kudryavtsev O., Yazici M."
   ]
  },
  {
   "cell_type": "code",
   "execution_count": 1,
   "id": "95c254bd",
   "metadata": {},
   "outputs": [
    {
     "data": {
      "text/html": [
       "<div>\n",
       "<style scoped>\n",
       "    .dataframe tbody tr th:only-of-type {\n",
       "        vertical-align: middle;\n",
       "    }\n",
       "\n",
       "    .dataframe tbody tr th {\n",
       "        vertical-align: top;\n",
       "    }\n",
       "\n",
       "    .dataframe thead th {\n",
       "        text-align: right;\n",
       "    }\n",
       "</style>\n",
       "<table border=\"1\" class=\"dataframe\">\n",
       "  <thead>\n",
       "    <tr style=\"text-align: right;\">\n",
       "      <th></th>\n",
       "      <th>X1</th>\n",
       "      <th>X2</th>\n",
       "      <th>X3</th>\n",
       "      <th>X4</th>\n",
       "      <th>X5</th>\n",
       "      <th>inactive_active</th>\n",
       "    </tr>\n",
       "  </thead>\n",
       "  <tbody>\n",
       "    <tr>\n",
       "      <th>0</th>\n",
       "      <td>0.505452</td>\n",
       "      <td>0.037576</td>\n",
       "      <td>0.056000</td>\n",
       "      <td>1.424141</td>\n",
       "      <td>0.750397</td>\n",
       "      <td>0</td>\n",
       "    </tr>\n",
       "    <tr>\n",
       "      <th>1</th>\n",
       "      <td>0.523732</td>\n",
       "      <td>0.038025</td>\n",
       "      <td>0.072910</td>\n",
       "      <td>1.379251</td>\n",
       "      <td>0.849812</td>\n",
       "      <td>0</td>\n",
       "    </tr>\n",
       "    <tr>\n",
       "      <th>2</th>\n",
       "      <td>0.449485</td>\n",
       "      <td>0.023832</td>\n",
       "      <td>0.021829</td>\n",
       "      <td>1.696345</td>\n",
       "      <td>0.981098</td>\n",
       "      <td>0</td>\n",
       "    </tr>\n",
       "    <tr>\n",
       "      <th>3</th>\n",
       "      <td>0.370960</td>\n",
       "      <td>0.046000</td>\n",
       "      <td>0.070648</td>\n",
       "      <td>1.444869</td>\n",
       "      <td>0.984495</td>\n",
       "      <td>0</td>\n",
       "    </tr>\n",
       "    <tr>\n",
       "      <th>4</th>\n",
       "      <td>0.391547</td>\n",
       "      <td>-0.158851</td>\n",
       "      <td>0.029688</td>\n",
       "      <td>0.722070</td>\n",
       "      <td>1.179211</td>\n",
       "      <td>0</td>\n",
       "    </tr>\n",
       "    <tr>\n",
       "      <th>...</th>\n",
       "      <td>...</td>\n",
       "      <td>...</td>\n",
       "      <td>...</td>\n",
       "      <td>...</td>\n",
       "      <td>...</td>\n",
       "      <td>...</td>\n",
       "    </tr>\n",
       "    <tr>\n",
       "      <th>55463</th>\n",
       "      <td>0.351600</td>\n",
       "      <td>-0.004169</td>\n",
       "      <td>0.062183</td>\n",
       "      <td>0.064744</td>\n",
       "      <td>1.149179</td>\n",
       "      <td>1</td>\n",
       "    </tr>\n",
       "    <tr>\n",
       "      <th>55464</th>\n",
       "      <td>0.108828</td>\n",
       "      <td>0.014911</td>\n",
       "      <td>0.062648</td>\n",
       "      <td>0.952988</td>\n",
       "      <td>0.179018</td>\n",
       "      <td>1</td>\n",
       "    </tr>\n",
       "    <tr>\n",
       "      <th>55465</th>\n",
       "      <td>0.088590</td>\n",
       "      <td>0.025745</td>\n",
       "      <td>0.069360</td>\n",
       "      <td>0.876071</td>\n",
       "      <td>0.182800</td>\n",
       "      <td>1</td>\n",
       "    </tr>\n",
       "    <tr>\n",
       "      <th>55466</th>\n",
       "      <td>0.100205</td>\n",
       "      <td>0.021948</td>\n",
       "      <td>0.061845</td>\n",
       "      <td>0.833435</td>\n",
       "      <td>0.177880</td>\n",
       "      <td>1</td>\n",
       "    </tr>\n",
       "    <tr>\n",
       "      <th>55467</th>\n",
       "      <td>0.073740</td>\n",
       "      <td>0.020029</td>\n",
       "      <td>0.061023</td>\n",
       "      <td>0.830387</td>\n",
       "      <td>0.185399</td>\n",
       "      <td>1</td>\n",
       "    </tr>\n",
       "  </tbody>\n",
       "</table>\n",
       "<p>55468 rows × 6 columns</p>\n",
       "</div>"
      ],
      "text/plain": [
       "             X1        X2        X3        X4        X5  inactive_active\n",
       "0      0.505452  0.037576  0.056000  1.424141  0.750397                0\n",
       "1      0.523732  0.038025  0.072910  1.379251  0.849812                0\n",
       "2      0.449485  0.023832  0.021829  1.696345  0.981098                0\n",
       "3      0.370960  0.046000  0.070648  1.444869  0.984495                0\n",
       "4      0.391547 -0.158851  0.029688  0.722070  1.179211                0\n",
       "...         ...       ...       ...       ...       ...              ...\n",
       "55463  0.351600 -0.004169  0.062183  0.064744  1.149179                1\n",
       "55464  0.108828  0.014911  0.062648  0.952988  0.179018                1\n",
       "55465  0.088590  0.025745  0.069360  0.876071  0.182800                1\n",
       "55466  0.100205  0.021948  0.061845  0.833435  0.177880                1\n",
       "55467  0.073740  0.020029  0.061023  0.830387  0.185399                1\n",
       "\n",
       "[55468 rows x 6 columns]"
      ]
     },
     "execution_count": 1,
     "metadata": {},
     "output_type": "execute_result"
    }
   ],
   "source": [
    "import warnings\n",
    "warnings.filterwarnings('ignore')\n",
    "\n",
    "import numpy as np\n",
    "import pandas as pd\n",
    "from sklearn.model_selection import train_test_split\n",
    "\n",
    "# load data\n",
    "data = pd.read_csv('data.csv')\n",
    "data"
   ]
  },
  {
   "cell_type": "code",
   "execution_count": 2,
   "id": "7ca4620b",
   "metadata": {
    "colab": {
     "base_uri": "https://localhost:8080/"
    },
    "id": "7ca4620b",
    "outputId": "c56a1c69-72ed-4631-c35e-dcf3be546c31"
   },
   "outputs": [
    {
     "name": "stdout",
     "output_type": "stream",
     "text": [
      "The count and ratio of 1 (active firms) in tha data\n",
      "count:  43411 rate:  0.7826314271291556 total data : 55468\n"
     ]
    }
   ],
   "source": [
    "count_1 = data['inactive_active'].sum()\n",
    "count_0 = len(data['inactive_active']) - count_1\n",
    "print('The count and ratio of 1 (active firms) in tha data')\n",
    "print('count: ',count_1,'rate: ', count_1/(count_1+count_0), 'total data :', count_1+count_0)"
   ]
  },
  {
   "cell_type": "code",
   "execution_count": 3,
   "id": "c33f1995",
   "metadata": {
    "colab": {
     "base_uri": "https://localhost:8080/"
    },
    "id": "c33f1995",
    "outputId": "eb2555c0-6fa5-4195-b214-80276ca33e38"
   },
   "outputs": [
    {
     "name": "stdout",
     "output_type": "stream",
     "text": [
      "The count and ratio of 0 (inactive firms) in tha data\n",
      "count:  12057 rate:  0.21736857287084446 total data : 55468\n"
     ]
    }
   ],
   "source": [
    "print('The count and ratio of 0 (inactive firms) in tha data')\n",
    "print('count: ',count_0,'rate: ', count_0/(count_1+count_0), 'total data :', count_1+count_0)"
   ]
  },
  {
   "cell_type": "markdown",
   "id": "daf3f9c8",
   "metadata": {
    "id": "daf3f9c8"
   },
   "source": [
    "## PART 1: The Statistics"
   ]
  },
  {
   "cell_type": "code",
   "execution_count": 4,
   "id": "034c7a19",
   "metadata": {
    "colab": {
     "base_uri": "https://localhost:8080/"
    },
    "id": "034c7a19",
    "outputId": "83b803d8-ecc5-41ab-9a5d-c2c8ad54dc08"
   },
   "outputs": [
    {
     "data": {
      "text/html": [
       "<div>\n",
       "<style scoped>\n",
       "    .dataframe tbody tr th:only-of-type {\n",
       "        vertical-align: middle;\n",
       "    }\n",
       "\n",
       "    .dataframe tbody tr th {\n",
       "        vertical-align: top;\n",
       "    }\n",
       "\n",
       "    .dataframe thead th {\n",
       "        text-align: right;\n",
       "    }\n",
       "</style>\n",
       "<table border=\"1\" class=\"dataframe\">\n",
       "  <thead>\n",
       "    <tr style=\"text-align: right;\">\n",
       "      <th></th>\n",
       "      <th>X1</th>\n",
       "      <th>X2</th>\n",
       "      <th>X3</th>\n",
       "      <th>X4</th>\n",
       "      <th>X5</th>\n",
       "    </tr>\n",
       "  </thead>\n",
       "  <tbody>\n",
       "    <tr>\n",
       "      <th>0</th>\n",
       "      <td>0.505452</td>\n",
       "      <td>0.037576</td>\n",
       "      <td>0.056000</td>\n",
       "      <td>1.424141</td>\n",
       "      <td>0.750397</td>\n",
       "    </tr>\n",
       "    <tr>\n",
       "      <th>1</th>\n",
       "      <td>0.523732</td>\n",
       "      <td>0.038025</td>\n",
       "      <td>0.072910</td>\n",
       "      <td>1.379251</td>\n",
       "      <td>0.849812</td>\n",
       "    </tr>\n",
       "    <tr>\n",
       "      <th>2</th>\n",
       "      <td>0.449485</td>\n",
       "      <td>0.023832</td>\n",
       "      <td>0.021829</td>\n",
       "      <td>1.696345</td>\n",
       "      <td>0.981098</td>\n",
       "    </tr>\n",
       "    <tr>\n",
       "      <th>3</th>\n",
       "      <td>0.370960</td>\n",
       "      <td>0.046000</td>\n",
       "      <td>0.070648</td>\n",
       "      <td>1.444869</td>\n",
       "      <td>0.984495</td>\n",
       "    </tr>\n",
       "    <tr>\n",
       "      <th>4</th>\n",
       "      <td>0.391547</td>\n",
       "      <td>-0.158851</td>\n",
       "      <td>0.029688</td>\n",
       "      <td>0.722070</td>\n",
       "      <td>1.179211</td>\n",
       "    </tr>\n",
       "    <tr>\n",
       "      <th>...</th>\n",
       "      <td>...</td>\n",
       "      <td>...</td>\n",
       "      <td>...</td>\n",
       "      <td>...</td>\n",
       "      <td>...</td>\n",
       "    </tr>\n",
       "    <tr>\n",
       "      <th>55463</th>\n",
       "      <td>0.351600</td>\n",
       "      <td>-0.004169</td>\n",
       "      <td>0.062183</td>\n",
       "      <td>0.064744</td>\n",
       "      <td>1.149179</td>\n",
       "    </tr>\n",
       "    <tr>\n",
       "      <th>55464</th>\n",
       "      <td>0.108828</td>\n",
       "      <td>0.014911</td>\n",
       "      <td>0.062648</td>\n",
       "      <td>0.952988</td>\n",
       "      <td>0.179018</td>\n",
       "    </tr>\n",
       "    <tr>\n",
       "      <th>55465</th>\n",
       "      <td>0.088590</td>\n",
       "      <td>0.025745</td>\n",
       "      <td>0.069360</td>\n",
       "      <td>0.876071</td>\n",
       "      <td>0.182800</td>\n",
       "    </tr>\n",
       "    <tr>\n",
       "      <th>55466</th>\n",
       "      <td>0.100205</td>\n",
       "      <td>0.021948</td>\n",
       "      <td>0.061845</td>\n",
       "      <td>0.833435</td>\n",
       "      <td>0.177880</td>\n",
       "    </tr>\n",
       "    <tr>\n",
       "      <th>55467</th>\n",
       "      <td>0.073740</td>\n",
       "      <td>0.020029</td>\n",
       "      <td>0.061023</td>\n",
       "      <td>0.830387</td>\n",
       "      <td>0.185399</td>\n",
       "    </tr>\n",
       "  </tbody>\n",
       "</table>\n",
       "<p>55468 rows × 5 columns</p>\n",
       "</div>"
      ],
      "text/plain": [
       "             X1        X2        X3        X4        X5\n",
       "0      0.505452  0.037576  0.056000  1.424141  0.750397\n",
       "1      0.523732  0.038025  0.072910  1.379251  0.849812\n",
       "2      0.449485  0.023832  0.021829  1.696345  0.981098\n",
       "3      0.370960  0.046000  0.070648  1.444869  0.984495\n",
       "4      0.391547 -0.158851  0.029688  0.722070  1.179211\n",
       "...         ...       ...       ...       ...       ...\n",
       "55463  0.351600 -0.004169  0.062183  0.064744  1.149179\n",
       "55464  0.108828  0.014911  0.062648  0.952988  0.179018\n",
       "55465  0.088590  0.025745  0.069360  0.876071  0.182800\n",
       "55466  0.100205  0.021948  0.061845  0.833435  0.177880\n",
       "55467  0.073740  0.020029  0.061023  0.830387  0.185399\n",
       "\n",
       "[55468 rows x 5 columns]"
      ]
     },
     "execution_count": 4,
     "metadata": {},
     "output_type": "execute_result"
    }
   ],
   "source": [
    "import scipy.stats as stats\n",
    "\n",
    "# Convert data\n",
    "X = data.drop(['inactive_active'],axis=1)\n",
    "y = data['inactive_active']\n",
    "\n",
    "X"
   ]
  },
  {
   "cell_type": "code",
   "execution_count": 5,
   "id": "59fce2d8",
   "metadata": {},
   "outputs": [
    {
     "name": "stdout",
     "output_type": "stream",
     "text": [
      "60.090312345601234 8.163616061421967e-51\n",
      "p-value: 8.163616061421967e-51, The null hypothesis is rejected. There is a difference between at least two variables.\n"
     ]
    }
   ],
   "source": [
    "# The one-way ANOVA tests: \n",
    "# The null hypothesis that two or more groups have the same population mean.\n",
    "fvalue, pvalue = stats.f_oneway(X['X1'], X['X2'], X['X3'], X['X4'], X['X5'])\n",
    "print(fvalue, pvalue)\n",
    "\n",
    "if pvalue<0.05:\n",
    "    print(\n",
    "    \"p-value: {}, The null hypothesis is rejected. There is a difference between at least two variables.\".format(\n",
    "        pvalue))\n",
    "else:\n",
    "    print(\n",
    "    \"p-value: {}, The null hypothesis is accepted. There are not any differences among the means of variables.\".format(\n",
    "        pvalue))"
   ]
  },
  {
   "cell_type": "code",
   "execution_count": 6,
   "id": "003395a9",
   "metadata": {
    "colab": {
     "base_uri": "https://localhost:8080/"
    },
    "id": "003395a9",
    "outputId": "b3b7c3e0-ddd4-4a02-ecd9-a26a5cf37e98"
   },
   "outputs": [
    {
     "name": "stdout",
     "output_type": "stream",
     "text": [
      "the input data is from a normal distribution\n",
      "the input data is from a normal distribution\n",
      "the input data is from a normal distribution\n",
      "the input data is from a normal distribution\n",
      "the input data is from a normal distribution\n"
     ]
    }
   ],
   "source": [
    "# // The Test of Normality //\n",
    "# The creating a function called normality()\n",
    "# The null hypothesis that the input data is not from a normal distribution.\n",
    "def normality(x):\n",
    "    k2, pvalue = stats.normaltest(x)\n",
    "    alpha = 1e-3\n",
    "    \n",
    "    if pvalue < alpha: # null hypothesis: x comes from a normal distribution\n",
    "        return('the input data is from a normal distribution')\n",
    "    else:\n",
    "        return('the input data is not from a normal distribution') \n",
    "    \n",
    "print(normality(X['X1']))\n",
    "print(normality(X['X2']))\n",
    "print(normality(X['X3']))\n",
    "print(normality(X['X4']))\n",
    "print(normality(X['X5']))\n"
   ]
  },
  {
   "cell_type": "code",
   "execution_count": 7,
   "id": "5d00b426",
   "metadata": {
    "colab": {
     "base_uri": "https://localhost:8080/"
    },
    "id": "5d00b426",
    "outputId": "bd1e1047-83e0-459f-dfc1-a19ae66c4a34"
   },
   "outputs": [
    {
     "name": "stdout",
     "output_type": "stream",
     "text": [
      "32.0843277943918 8.957646232136972e-27\n",
      "p-value: 8.163616061421967e-51, The null hypothesis is rejected. Not all input samples are from populations with equal variances.\n"
     ]
    }
   ],
   "source": [
    "from scipy.stats import levene\n",
    "\n",
    "# // Test of Homogeneity of Variances // \n",
    "# The leneve's test is used instead of Bartlett’s test\n",
    "# because our data is from a normal distribution.\n",
    "# The null hypothesis that all input samples are from populations with equal variances.\n",
    "stat, p = levene(X['X1'], X['X2'], X['X3'], X['X4'], X['X5'])\n",
    "\n",
    "print(stat, p)\n",
    "\n",
    "if pvalue<0.05:\n",
    "    print(\n",
    "    \"p-value: {}, The null hypothesis is rejected. Not all input samples are from populations with equal variances.\".format(\n",
    "        pvalue))\n",
    "else:\n",
    "    print(\n",
    "    \"p-value: {}, The null hypothesis is accepted. All input samples are from populations with equal variances.\".format(\n",
    "        pvalue))"
   ]
  },
  {
   "cell_type": "code",
   "execution_count": 8,
   "id": "aef562b1",
   "metadata": {
    "colab": {
     "base_uri": "https://localhost:8080/",
     "height": 695
    },
    "id": "aef562b1",
    "outputId": "18854fae-fc4e-4c2d-96bb-0bd89c903cfb"
   },
   "outputs": [
    {
     "data": {
      "text/html": [
       "<div>\n",
       "<style scoped>\n",
       "    .dataframe tbody tr th:only-of-type {\n",
       "        vertical-align: middle;\n",
       "    }\n",
       "\n",
       "    .dataframe tbody tr th {\n",
       "        vertical-align: top;\n",
       "    }\n",
       "\n",
       "    .dataframe thead th {\n",
       "        text-align: right;\n",
       "    }\n",
       "</style>\n",
       "<table border=\"1\" class=\"dataframe\">\n",
       "  <thead>\n",
       "    <tr style=\"text-align: right;\">\n",
       "      <th></th>\n",
       "      <th>X1</th>\n",
       "      <th>X2</th>\n",
       "      <th>X3</th>\n",
       "      <th>X4</th>\n",
       "      <th>X5</th>\n",
       "    </tr>\n",
       "  </thead>\n",
       "  <tbody>\n",
       "    <tr>\n",
       "      <th>X1</th>\n",
       "      <td>1.000000e+00</td>\n",
       "      <td>1.837254e-06</td>\n",
       "      <td>0.000000</td>\n",
       "      <td>2.203793e-13</td>\n",
       "      <td>0.000000e+00</td>\n",
       "    </tr>\n",
       "    <tr>\n",
       "      <th>X2</th>\n",
       "      <td>1.837254e-06</td>\n",
       "      <td>1.000000e+00</td>\n",
       "      <td>0.231753</td>\n",
       "      <td>0.000000e+00</td>\n",
       "      <td>3.241005e-09</td>\n",
       "    </tr>\n",
       "    <tr>\n",
       "      <th>X3</th>\n",
       "      <td>0.000000e+00</td>\n",
       "      <td>2.317527e-01</td>\n",
       "      <td>1.000000</td>\n",
       "      <td>0.000000e+00</td>\n",
       "      <td>0.000000e+00</td>\n",
       "    </tr>\n",
       "    <tr>\n",
       "      <th>X4</th>\n",
       "      <td>2.203793e-13</td>\n",
       "      <td>0.000000e+00</td>\n",
       "      <td>0.000000</td>\n",
       "      <td>1.000000e+00</td>\n",
       "      <td>1.115297e-10</td>\n",
       "    </tr>\n",
       "    <tr>\n",
       "      <th>X5</th>\n",
       "      <td>0.000000e+00</td>\n",
       "      <td>3.241005e-09</td>\n",
       "      <td>0.000000</td>\n",
       "      <td>1.115297e-10</td>\n",
       "      <td>1.000000e+00</td>\n",
       "    </tr>\n",
       "  </tbody>\n",
       "</table>\n",
       "</div>"
      ],
      "text/plain": [
       "              X1            X2        X3            X4            X5\n",
       "X1  1.000000e+00  1.837254e-06  0.000000  2.203793e-13  0.000000e+00\n",
       "X2  1.837254e-06  1.000000e+00  0.231753  0.000000e+00  3.241005e-09\n",
       "X3  0.000000e+00  2.317527e-01  1.000000  0.000000e+00  0.000000e+00\n",
       "X4  2.203793e-13  0.000000e+00  0.000000  1.000000e+00  1.115297e-10\n",
       "X5  0.000000e+00  3.241005e-09  0.000000  1.115297e-10  1.000000e+00"
      ]
     },
     "execution_count": 8,
     "metadata": {},
     "output_type": "execute_result"
    }
   ],
   "source": [
    "# Tamhane’s T2 all-pairs comparison test for normally distributed data with unequal variances. \n",
    "# Tamhane’s T2 test can be performed for all-pairs comparisons in an one-factorial layout with \n",
    "# normally distributed residuals but unequal groups variances. \n",
    "# A total of m = k(k-1)/2 hypotheses can be tested. \n",
    "# The null hypothesis is tested in the two-tailed test against the alternative hypothesis \n",
    "\n",
    "import scikit_posthocs as sp\n",
    "\n",
    "x = pd.DataFrame({\"X1\": X['X1'], \"X2\": X['X2'], \"X3\": X['X3'], \"X4\": X['X4'],\"X5\": X['X5'],})\n",
    "x = x.melt(var_name='groups', value_name='values')\n",
    "sp.posthoc_tamhane(x, val_col='values', group_col='groups')"
   ]
  },
  {
   "cell_type": "markdown",
   "id": "c9b5e7c5",
   "metadata": {
    "id": "c9b5e7c5",
    "tags": []
   },
   "source": [
    "## PART 2: The Neural Net training"
   ]
  },
  {
   "cell_type": "code",
   "execution_count": 9,
   "id": "44130842",
   "metadata": {
    "colab": {
     "base_uri": "https://localhost:8080/",
     "height": 762
    },
    "id": "44130842",
    "outputId": "d426d1b9-c3ce-49f9-dafd-107e2d10feb1",
    "scrolled": true,
    "tags": []
   },
   "outputs": [
    {
     "name": "stdout",
     "output_type": "stream",
     "text": [
      "inactive firms in the test: 2971\n",
      "active firms in the test: 8122\n",
      "Epoch 1/20\n",
      "2219/2219 [==============================] - 9s 3ms/step - loss: 0.5085 - tn: 35280.0000 - fp: 9093.0000 - tp: 35278.0000 - fn: 9095.0000 - accuracy: 0.7953 - ss: 0.8736 - val_loss: 0.5925 - val_tn: 8122.0000 - val_fp: 2971.0000 - val_tp: 8122.0000 - val_fn: 2971.0000 - val_accuracy: 0.7322 - val_ss: 0.8091\n",
      "Epoch 2/20\n",
      "2219/2219 [==============================] - 7s 3ms/step - loss: 0.5048 - tn: 35286.0000 - fp: 9087.0000 - tp: 35287.0000 - fn: 9086.0000 - accuracy: 0.7952 - ss: 0.8788 - val_loss: 0.5955 - val_tn: 8122.0000 - val_fp: 2971.0000 - val_tp: 8122.0000 - val_fn: 2971.0000 - val_accuracy: 0.7322 - val_ss: 0.8133\n",
      "Epoch 3/20\n",
      "2219/2219 [==============================] - 7s 3ms/step - loss: 0.5046 - tn: 35285.0000 - fp: 9088.0000 - tp: 35287.0000 - fn: 9086.0000 - accuracy: 0.7952 - ss: 0.8802 - val_loss: 0.5888 - val_tn: 8122.0000 - val_fp: 2971.0000 - val_tp: 8122.0000 - val_fn: 2971.0000 - val_accuracy: 0.7322 - val_ss: 0.8097\n",
      "Epoch 4/20\n",
      "2219/2219 [==============================] - 7s 3ms/step - loss: 0.5046 - tn: 35284.0000 - fp: 9089.0000 - tp: 35287.0000 - fn: 9086.0000 - accuracy: 0.7952 - ss: 0.8750 - val_loss: 0.5958 - val_tn: 8122.0000 - val_fp: 2971.0000 - val_tp: 8122.0000 - val_fn: 2971.0000 - val_accuracy: 0.7322 - val_ss: 0.8205\n",
      "Epoch 5/20\n",
      "2219/2219 [==============================] - 7s 3ms/step - loss: 0.5046 - tn: 35284.0000 - fp: 9089.0000 - tp: 35287.0000 - fn: 9086.0000 - accuracy: 0.7952 - ss: 0.8766 - val_loss: 0.5945 - val_tn: 8122.0000 - val_fp: 2971.0000 - val_tp: 8122.0000 - val_fn: 2971.0000 - val_accuracy: 0.7322 - val_ss: 0.8074\n",
      "Epoch 6/20\n",
      "2219/2219 [==============================] - 7s 3ms/step - loss: 0.5045 - tn: 35285.0000 - fp: 9088.0000 - tp: 35287.0000 - fn: 9086.0000 - accuracy: 0.7952 - ss: 0.8852 - val_loss: 0.5948 - val_tn: 8122.0000 - val_fp: 2971.0000 - val_tp: 8122.0000 - val_fn: 2971.0000 - val_accuracy: 0.7322 - val_ss: 0.8153\n",
      "Epoch 7/20\n",
      "2219/2219 [==============================] - 7s 3ms/step - loss: 0.5045 - tn: 35283.0000 - fp: 9090.0000 - tp: 35287.0000 - fn: 9086.0000 - accuracy: 0.7952 - ss: 0.8767 - val_loss: 0.5921 - val_tn: 8122.0000 - val_fp: 2971.0000 - val_tp: 8122.0000 - val_fn: 2971.0000 - val_accuracy: 0.7322 - val_ss: 0.8137\n",
      "Epoch 8/20\n",
      "2219/2219 [==============================] - 7s 3ms/step - loss: 0.5044 - tn: 35283.0000 - fp: 9090.0000 - tp: 35287.0000 - fn: 9086.0000 - accuracy: 0.7952 - ss: 0.8833 - val_loss: 0.5880 - val_tn: 8122.0000 - val_fp: 2971.0000 - val_tp: 8122.0000 - val_fn: 2971.0000 - val_accuracy: 0.7322 - val_ss: 0.8175\n",
      "Epoch 9/20\n",
      "2219/2219 [==============================] - 7s 3ms/step - loss: 0.5046 - tn: 35285.0000 - fp: 9088.0000 - tp: 35287.0000 - fn: 9086.0000 - accuracy: 0.7952 - ss: 0.8781 - val_loss: 0.5908 - val_tn: 8122.0000 - val_fp: 2971.0000 - val_tp: 8122.0000 - val_fn: 2971.0000 - val_accuracy: 0.7322 - val_ss: 0.8226\n",
      "Epoch 10/20\n",
      "2219/2219 [==============================] - 7s 3ms/step - loss: 0.5044 - tn: 35285.0000 - fp: 9088.0000 - tp: 35287.0000 - fn: 9086.0000 - accuracy: 0.7952 - ss: 0.8789 - val_loss: 0.5914 - val_tn: 8121.0000 - val_fp: 2972.0000 - val_tp: 8122.0000 - val_fn: 2971.0000 - val_accuracy: 0.7322 - val_ss: 0.8115\n",
      "Epoch 11/20\n",
      "2219/2219 [==============================] - 7s 3ms/step - loss: 0.5044 - tn: 35284.0000 - fp: 9089.0000 - tp: 35287.0000 - fn: 9086.0000 - accuracy: 0.7952 - ss: 0.8865 - val_loss: 0.5891 - val_tn: 8122.0000 - val_fp: 2971.0000 - val_tp: 8122.0000 - val_fn: 2971.0000 - val_accuracy: 0.7322 - val_ss: 0.8114\n",
      "Epoch 12/20\n",
      "2219/2219 [==============================] - 7s 3ms/step - loss: 0.5045 - tn: 35285.0000 - fp: 9088.0000 - tp: 35287.0000 - fn: 9086.0000 - accuracy: 0.7952 - ss: 0.8793 - val_loss: 0.5947 - val_tn: 8122.0000 - val_fp: 2971.0000 - val_tp: 8122.0000 - val_fn: 2971.0000 - val_accuracy: 0.7322 - val_ss: 0.8185\n",
      "Epoch 13/20\n",
      "2219/2219 [==============================] - 7s 3ms/step - loss: 0.5044 - tn: 35286.0000 - fp: 9087.0000 - tp: 35287.0000 - fn: 9086.0000 - accuracy: 0.7952 - ss: 0.8765 - val_loss: 0.5912 - val_tn: 8122.0000 - val_fp: 2971.0000 - val_tp: 8122.0000 - val_fn: 2971.0000 - val_accuracy: 0.7322 - val_ss: 0.8108\n",
      "Epoch 14/20\n",
      "2219/2219 [==============================] - 7s 3ms/step - loss: 0.5045 - tn: 35285.0000 - fp: 9088.0000 - tp: 35287.0000 - fn: 9086.0000 - accuracy: 0.7952 - ss: 0.8781 - val_loss: 0.5891 - val_tn: 8122.0000 - val_fp: 2971.0000 - val_tp: 8122.0000 - val_fn: 2971.0000 - val_accuracy: 0.7322 - val_ss: 0.8213\n",
      "Epoch 15/20\n",
      "2219/2219 [==============================] - 7s 3ms/step - loss: 0.5044 - tn: 35283.0000 - fp: 9090.0000 - tp: 35288.0000 - fn: 9085.0000 - accuracy: 0.7952 - ss: 0.8780 - val_loss: 0.5888 - val_tn: 8122.0000 - val_fp: 2971.0000 - val_tp: 8122.0000 - val_fn: 2971.0000 - val_accuracy: 0.7322 - val_ss: 0.8175\n",
      "Epoch 16/20\n",
      "2219/2219 [==============================] - 7s 3ms/step - loss: 0.5045 - tn: 35285.0000 - fp: 9088.0000 - tp: 35287.0000 - fn: 9086.0000 - accuracy: 0.7952 - ss: 0.8795 - val_loss: 0.5939 - val_tn: 8122.0000 - val_fp: 2971.0000 - val_tp: 8122.0000 - val_fn: 2971.0000 - val_accuracy: 0.7322 - val_ss: 0.8163\n",
      "Epoch 17/20\n",
      "2219/2219 [==============================] - 7s 3ms/step - loss: 0.5044 - tn: 35284.0000 - fp: 9089.0000 - tp: 35287.0000 - fn: 9086.0000 - accuracy: 0.7952 - ss: 0.8860 - val_loss: 0.5923 - val_tn: 8122.0000 - val_fp: 2971.0000 - val_tp: 8122.0000 - val_fn: 2971.0000 - val_accuracy: 0.7322 - val_ss: 0.8136\n",
      "Epoch 18/20\n",
      "2219/2219 [==============================] - 7s 3ms/step - loss: 0.5045 - tn: 35284.0000 - fp: 9089.0000 - tp: 35287.0000 - fn: 9086.0000 - accuracy: 0.7952 - ss: 0.8787 - val_loss: 0.5909 - val_tn: 8121.0000 - val_fp: 2972.0000 - val_tp: 8122.0000 - val_fn: 2971.0000 - val_accuracy: 0.7322 - val_ss: 0.8197\n",
      "Epoch 19/20\n",
      "2219/2219 [==============================] - 7s 3ms/step - loss: 0.5045 - tn: 35283.0000 - fp: 9090.0000 - tp: 35288.0000 - fn: 9085.0000 - accuracy: 0.7952 - ss: 0.8772 - val_loss: 0.5922 - val_tn: 8122.0000 - val_fp: 2971.0000 - val_tp: 8122.0000 - val_fn: 2971.0000 - val_accuracy: 0.7322 - val_ss: 0.8182\n",
      "Epoch 20/20\n",
      "2219/2219 [==============================] - 7s 3ms/step - loss: 0.5045 - tn: 35285.0000 - fp: 9088.0000 - tp: 35287.0000 - fn: 9086.0000 - accuracy: 0.7952 - ss: 0.8812 - val_loss: 0.5969 - val_tn: 8122.0000 - val_fp: 2971.0000 - val_tp: 8122.0000 - val_fn: 2971.0000 - val_accuracy: 0.7322 - val_ss: 0.8229\n",
      "Score for fold: loss of 0.5969406962394714; tn of 8122.0;fp of 2971.0;tp of 8122.0; fn of 2971.0; accuracy of 0.7321734428405762; ss of 0.8228612542152405;%\n",
      "Score for fold: loss of 0.504417359828949; tn of 35286.0; fp of 9087.0;tp of 35288.0; fn of 9085.0; accuracy of 0.795235812664032; ss of 0.8846595883369446;%\n"
     ]
    }
   ],
   "source": [
    "import tensorflow as tf\n",
    "from tensorflow import keras\n",
    "from tensorflow import compat\n",
    "from keras.models import Sequential\n",
    "from keras.layers import Dense\n",
    "import tensorflow_addons as tfa\n",
    "import h5\n",
    "\n",
    "#initial values for the index of splitted data\n",
    "# n = X.shape[0] = 55465\n",
    "# The train and test data parts of the data are as follows\n",
    "# Train: X.loc[a:b] and Test: X.loc[c:d] \n",
    "# The lenght of the train data is 4 times of the test data.\n",
    "\n",
    "n=55465\n",
    "#a=0; b=(4*n/5)-1; c=4*n/5 ; d=n-1          # Fold 1\n",
    "#a=n/5; b=n-1; c=0 ; d=n/5-1                # Fold 2\n",
    "#a=2*n/5; b=n/5-1; c=n/5 ; d=2*n/5-1         # Fold 3              \n",
    "#a=3*n/5; b=2*n/5-1; c=2*n/5 ; d=3*n/5-1    # Fold 4\n",
    "a=4*n/5; b=(3*n/5)-1; c=3*n/5 ; d=4*n/5-1  # Fold 5\n",
    "\n",
    "list1 = list(range(44372,55466))\n",
    "list2 = list(range(0,33279))\n",
    "list3 = list(range(33279,44372))\n",
    "\n",
    "X = X.reindex(list1 + list2 + list3) \n",
    "y = y.reindex(list1 + list2 + list3)\n",
    "\n",
    "X_train, X_test, y_train, y_test = [], [], [], []\n",
    "X_train, X_test = X.loc[a:b], X.loc[c:d]\n",
    "y_train, y_test = y.loc[a:b], y.loc[c:d]\n",
    "\n",
    "count_inactive_test, count_active_test = 0, 0\n",
    "for j in y_test:\n",
    "    if j==0:\n",
    "        count_inactive_test+=1\n",
    "\n",
    "    if j==1:\n",
    "        count_active_test+=1\n",
    "        \n",
    "print(\"inactive firms in the test:\", count_inactive_test)\n",
    "print(\"active firms in the test:\", count_active_test)\n",
    "\n",
    "# Analyze class imbalance in the targets\n",
    "# 0 and 1 mean inactive, active firms respectively.\n",
    "counts_1 = y_train.sum()\n",
    "counts_0 = len(y_train) - counts_1\n",
    "\n",
    "# The weighting for the imlanabce\n",
    "weight_for_0 = counts_1 / (counts_0 + counts_1)\n",
    "weight_for_1 = counts_0 / (counts_0 + counts_1)\n",
    "\n",
    "# Reshape labels\n",
    "y_train = tf.one_hot(y_train, depth=2, on_value=1.0, off_value=0.0,axis=-1)\n",
    "y_test = tf.one_hot(y_test, depth=2, on_value=1.0, off_value=0.0,axis=-1)\n",
    "\n",
    "# Normalize the data using training set statistics\n",
    "mean = np.mean(X_train, axis=0)\n",
    "X_train -= mean\n",
    "X_test -= mean\n",
    "std = np.std(X_train, axis=0)\n",
    "X_train /= std\n",
    "X_test /= std\n",
    "\n",
    "# Build a binary classification model\n",
    "model = Sequential()\n",
    "model.add(keras.Input(shape=(5,)))\n",
    "model.add(Dense(3, use_bias=True, activation='relu', kernel_initializer='uniform')) #\n",
    "model.add(Dense(2, activation=\"sigmoid\", kernel_constraint=keras.constraints.NonNeg())) \n",
    "\n",
    "\n",
    "# define the keras model\n",
    "metrics = [\n",
    "    keras.metrics.TrueNegatives(name=\"tn\"),\n",
    "    keras.metrics.FalsePositives(name=\"fp\"),\n",
    "    keras.metrics.TruePositives(name=\"tp\"),\n",
    "    keras.metrics.FalseNegatives(name=\"fn\"),\n",
    "    'accuracy',\n",
    "    keras.metrics.SpecificityAtSensitivity(0.5, name=\"ss\")\n",
    "]\n",
    "\n",
    "# compile the keras mode\n",
    "model.compile(\n",
    "    optimizer=keras.optimizers.SGD(learning_rate=0.1), \n",
    "    loss='binary_crossentropy',\n",
    "    metrics=metrics\n",
    ")\n",
    "\n",
    "callbacks = [keras.callbacks.ModelCheckpoint(\"bankruptcy_model_at_epoch_{epoch}.h5\", monitor=\"val_loss\", save_best_only=True, mode=\"min\")]\n",
    "\n",
    "# fit the keras model on the dataset\n",
    "model.fit(X_train, y_train, epochs=20, batch_size=20, verbose=1,validation_data=(X_test, y_test), callbacks=callbacks)\n",
    "\n",
    "# Generate generalization metrics\n",
    "scores_test = model.evaluate(X_test, y_test, verbose=0)\n",
    "scores_train = model.evaluate(X_train, y_train, verbose=0)\n",
    "print(f'Score for fold: {model.metrics_names[0]} of {scores_test[0]}; {model.metrics_names[1]} of {scores_test[1]};{model.metrics_names[2]} of {scores_test[2]};{model.metrics_names[3]} of {scores_test[3]}; {model.metrics_names[4]} of {scores_test[4]}; {model.metrics_names[5]} of {scores_test[5]}; {model.metrics_names[6]} of {scores_test[6]};%')\n",
    "print(f'Score for fold: {model.metrics_names[0]} of {scores_train[0]}; {model.metrics_names[1]} of {scores_train[1]}; {model.metrics_names[2]} of {scores_train[2]};{model.metrics_names[3]} of {scores_train[3]}; {model.metrics_names[4]} of {scores_train[4]}; {model.metrics_names[5]} of {scores_train[5]}; {model.metrics_names[6]} of {scores_train[6]};%')\n"
   ]
  },
  {
   "cell_type": "code",
   "execution_count": 14,
   "id": "a9daa2f1",
   "metadata": {},
   "outputs": [
    {
     "data": {
      "text/plain": [
       "[[array([[-0.13323274, -0.01587858,  0.25812644],\n",
       "         [ 0.34199062,  0.21233985,  0.09598412],\n",
       "         [ 0.61331713,  0.11593663, -0.00855894],\n",
       "         [-0.16757591, -0.03455882, -0.03343703],\n",
       "         [-0.20780002, -0.02287534, -0.01746157]], dtype=float32),\n",
       "  array([ 0.01425134, -0.04690924,  0.52659494], dtype=float32)],\n",
       " [array([[0.01188125, 1.3818846 ],\n",
       "         [0.6813046 , 0.50623465],\n",
       "         [0.5029739 , 0.05597441]], dtype=float32),\n",
       "  array([-1.4655936,  1.0470715], dtype=float32)]]"
      ]
     },
     "execution_count": 14,
     "metadata": {},
     "output_type": "execute_result"
    }
   ],
   "source": [
    "# Fold 1\n",
    "weights = []\n",
    "for layer in model.layers:\n",
    "    weights.append(layer.get_weights())\n",
    "    \n",
    "weights"
   ]
  },
  {
   "cell_type": "code",
   "execution_count": 16,
   "id": "c5abc696",
   "metadata": {
    "id": "c5abc696",
    "outputId": "f42ebe1c-a807-47bb-88e3-f4c695038a22"
   },
   "outputs": [
    {
     "data": {
      "text/plain": [
       "[[array([[-0.13437355,  0.18848298,  0.09635779],\n",
       "         [-0.02151761,  0.13730332, -0.00332905],\n",
       "         [ 0.00076678,  0.43118197, -0.07082431],\n",
       "         [-0.48318726, -0.02041665, -0.04957085],\n",
       "         [-0.622207  , -0.08236584,  0.27510428]], dtype=float32),\n",
       "  array([ 0.29299217,  0.27390558, -0.01094244], dtype=float32)],\n",
       " [array([[0.02729873, 0.6263127 ],\n",
       "         [0.5628098 , 0.04298412],\n",
       "         [0.00139782, 0.25115007]], dtype=float32),\n",
       "  array([-1.3538276,  0.9417543], dtype=float32)]]"
      ]
     },
     "execution_count": 16,
     "metadata": {},
     "output_type": "execute_result"
    }
   ],
   "source": [
    "# Fold 2\n",
    "weights = []\n",
    "for layer in model.layers:\n",
    "    weights.append(layer.get_weights())\n",
    "    \n",
    "weights"
   ]
  },
  {
   "cell_type": "code",
   "execution_count": 17,
   "id": "436334fb",
   "metadata": {},
   "outputs": [
    {
     "data": {
      "text/plain": [
       "[[array([[-0.21669145, -0.01740701,  0.26906788],\n",
       "         [ 0.04738224, -0.04576507,  0.08138926],\n",
       "         [ 0.30304495, -0.07604489,  0.38432434],\n",
       "         [-0.41211295, -0.1569459 , -0.07364773],\n",
       "         [-0.3265473 ,  0.08062775, -0.03329084]], dtype=float32),\n",
       "  array([0.29072478, 0.26665854, 0.33823636], dtype=float32)],\n",
       " [array([[0.01944366, 0.6831187 ],\n",
       "         [0.00782989, 0.28785414],\n",
       "         [0.5510768 , 0.06649121]], dtype=float32),\n",
       "  array([-1.5284808,  0.9988784], dtype=float32)]]"
      ]
     },
     "execution_count": 17,
     "metadata": {},
     "output_type": "execute_result"
    }
   ],
   "source": [
    "# Fold 3\n",
    "weights = []\n",
    "for layer in model.layers:\n",
    "    weights.append(layer.get_weights())\n",
    "    \n",
    "weights"
   ]
  },
  {
   "cell_type": "code",
   "execution_count": 11,
   "id": "dddfaddc",
   "metadata": {
    "id": "dddfaddc",
    "outputId": "3bc9298f-b3d5-4b3b-8549-173e4e755bd9"
   },
   "outputs": [
    {
     "data": {
      "text/plain": [
       "[[array([[ 0.33727452,  0.03316251, -0.31057498],\n",
       "         [ 0.29264373,  0.01502134, -0.03074162],\n",
       "         [ 0.3010764 ,  0.08709689, -0.030279  ],\n",
       "         [ 0.08772742, -0.00993394, -0.47370517],\n",
       "         [-0.08971967, -0.13417539, -0.33026785]], dtype=float32),\n",
       "  array([0.4206048 , 0.0091901 , 0.33912128], dtype=float32)],\n",
       " [array([[5.4363090e-01, 8.8856518e-03],\n",
       "         [1.2743917e-01, 3.0291453e-04],\n",
       "         [6.9049299e-03, 5.8369732e-01]], dtype=float32),\n",
       "  array([-1.5191718,  1.0645326], dtype=float32)]]"
      ]
     },
     "execution_count": 11,
     "metadata": {},
     "output_type": "execute_result"
    }
   ],
   "source": [
    "# Fold 4\n",
    "weights = []\n",
    "for layer in model.layers:\n",
    "    weights.append(layer.get_weights())\n",
    "    \n",
    "weights\n"
   ]
  },
  {
   "cell_type": "code",
   "execution_count": 11,
   "id": "b49e1081",
   "metadata": {},
   "outputs": [
    {
     "data": {
      "text/plain": [
       "[[array([[ 0.22876817, -0.37973845,  0.05709085],\n",
       "         [ 0.05080106,  0.3315255 ,  0.04359794],\n",
       "         [ 0.16365135, -0.20637338,  0.08578772],\n",
       "         [-0.20654131, -0.6608633 ,  0.11495377],\n",
       "         [-0.00343514, -0.43067753, -0.01039881]], dtype=float32),\n",
       "  array([0.30684084, 0.4105214 , 0.07280952], dtype=float32)],\n",
       " [array([[7.9296511e-01, 4.8704186e-01],\n",
       "         [5.6018931e-04, 8.7540507e-01],\n",
       "         [1.4588310e-01, 1.0256395e-02]], dtype=float32),\n",
       "  array([-1.6705008,  0.8597965], dtype=float32)]]"
      ]
     },
     "execution_count": 11,
     "metadata": {},
     "output_type": "execute_result"
    }
   ],
   "source": [
    "# Fold 5\n",
    "weights = []\n",
    "for layer in model.layers:\n",
    "    weights.append(layer.get_weights())\n",
    "    \n",
    "weights"
   ]
  },
  {
   "cell_type": "code",
   "execution_count": null,
   "id": "8e8454d4",
   "metadata": {},
   "outputs": [],
   "source": []
  }
 ],
 "metadata": {
  "colab": {
   "collapsed_sections": [],
   "name": "Bankruptcy_NeuralNet 1.ipynb",
   "provenance": []
  },
  "kernelspec": {
   "display_name": "Python 3",
   "language": "python",
   "name": "python3"
  },
  "language_info": {
   "codemirror_mode": {
    "name": "ipython",
    "version": 3
   },
   "file_extension": ".py",
   "mimetype": "text/x-python",
   "name": "python",
   "nbconvert_exporter": "python",
   "pygments_lexer": "ipython3",
   "version": "3.8.8"
  }
 },
 "nbformat": 4,
 "nbformat_minor": 5
}
